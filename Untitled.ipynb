{
 "cells": [
  {
   "cell_type": "code",
   "execution_count": 1,
   "id": "82b2308c",
   "metadata": {},
   "outputs": [],
   "source": [
    "import pyspark\n"
   ]
  },
  {
   "cell_type": "code",
   "execution_count": 20,
   "id": "f0436c73",
   "metadata": {},
   "outputs": [],
   "source": [
    "from pyspark.sql import SparkSession\n",
    "from pyspark.ml.feature import Tokenizer, NGram, HashingTF, IDF\n",
    "from pyspark.ml.classification import LogisticRegression"
   ]
  },
  {
   "cell_type": "code",
   "execution_count": null,
   "id": "b69d2484",
   "metadata": {},
   "outputs": [],
   "source": []
  },
  {
   "cell_type": "code",
   "execution_count": 3,
   "id": "21643bd8",
   "metadata": {},
   "outputs": [
    {
     "name": "stderr",
     "output_type": "stream",
     "text": [
      "23/03/17 09:00:29 WARN NativeCodeLoader: Unable to load native-hadoop library for your platform... using builtin-java classes where applicable\n",
      "Using Spark's default log4j profile: org/apache/spark/log4j-defaults.properties\n",
      "Setting default log level to \"WARN\".\n",
      "To adjust logging level use sc.setLogLevel(newLevel). For SparkR, use setLogLevel(newLevel).\n"
     ]
    }
   ],
   "source": [
    "spark = SparkSession.builder \\\n",
    "    .master(\"local\") \\\n",
    "    .appName(\"On fait du spark\") \\\n",
    "    .config(\"spark.some.config.option\", \"some-value\") \\\n",
    "    .getOrCreate()"
   ]
  },
  {
   "cell_type": "code",
   "execution_count": 4,
   "id": "dec42bfb",
   "metadata": {},
   "outputs": [
    {
     "name": "stderr",
     "output_type": "stream",
     "text": [
      "                                                                                \r"
     ]
    },
    {
     "data": {
      "text/plain": [
       "DataFrame[_c0: string, _c1: string, _c2: string, _c3: string, _c4: string, _c5: string]"
      ]
     },
     "execution_count": 4,
     "metadata": {},
     "output_type": "execute_result"
    }
   ],
   "source": [
    "df = spark.read.csv(\"twitter_data.csv\")\n",
    "df"
   ]
  },
  {
   "cell_type": "code",
   "execution_count": 5,
   "id": "a96b3c63",
   "metadata": {},
   "outputs": [
    {
     "name": "stdout",
     "output_type": "stream",
     "text": [
      "+---+----------+--------------------+--------+---------------+--------------------+\n",
      "|_c0|       _c1|                 _c2|     _c3|            _c4|                 _c5|\n",
      "+---+----------+--------------------+--------+---------------+--------------------+\n",
      "|  0|1467810369|Mon Apr 06 22:19:...|NO_QUERY|_TheSpecialOne_|@switchfoot http:...|\n",
      "|  0|1467810672|Mon Apr 06 22:19:...|NO_QUERY|  scotthamilton|is upset that he ...|\n",
      "|  0|1467810917|Mon Apr 06 22:19:...|NO_QUERY|       mattycus|@Kenichan I dived...|\n",
      "|  0|1467811184|Mon Apr 06 22:19:...|NO_QUERY|        ElleCTF|my whole body fee...|\n",
      "|  0|1467811193|Mon Apr 06 22:19:...|NO_QUERY|         Karoli|@nationwideclass ...|\n",
      "|  0|1467811372|Mon Apr 06 22:20:...|NO_QUERY|       joy_wolf|@Kwesidei not the...|\n",
      "|  0|1467811592|Mon Apr 06 22:20:...|NO_QUERY|        mybirch|         Need a hug |\n",
      "|  0|1467811594|Mon Apr 06 22:20:...|NO_QUERY|           coZZ|@LOLTrish hey  lo...|\n",
      "|  0|1467811795|Mon Apr 06 22:20:...|NO_QUERY|2Hood4Hollywood|@Tatiana_K nope t...|\n",
      "|  0|1467812025|Mon Apr 06 22:20:...|NO_QUERY|        mimismo|@twittera que me ...|\n",
      "|  0|1467812416|Mon Apr 06 22:20:...|NO_QUERY| erinx3leannexo|spring break in p...|\n",
      "|  0|1467812579|Mon Apr 06 22:20:...|NO_QUERY|   pardonlauren|I just re-pierced...|\n",
      "|  0|1467812723|Mon Apr 06 22:20:...|NO_QUERY|           TLeC|@caregiving I cou...|\n",
      "|  0|1467812771|Mon Apr 06 22:20:...|NO_QUERY|robrobbierobert|@octolinz16 It it...|\n",
      "|  0|1467812784|Mon Apr 06 22:20:...|NO_QUERY|    bayofwolves|@smarrison i woul...|\n",
      "|  0|1467812799|Mon Apr 06 22:20:...|NO_QUERY|     HairByJess|@iamjazzyfizzle I...|\n",
      "|  0|1467812964|Mon Apr 06 22:20:...|NO_QUERY| lovesongwriter|Hollis' death sce...|\n",
      "|  0|1467813137|Mon Apr 06 22:20:...|NO_QUERY|       armotley|about to file taxes |\n",
      "|  0|1467813579|Mon Apr 06 22:20:...|NO_QUERY|     starkissed|@LettyA ahh ive a...|\n",
      "|  0|1467813782|Mon Apr 06 22:20:...|NO_QUERY|      gi_gi_bee|@FakerPattyPattz ...|\n",
      "+---+----------+--------------------+--------+---------------+--------------------+\n",
      "only showing top 20 rows\n",
      "\n"
     ]
    }
   ],
   "source": [
    "df.show()"
   ]
  },
  {
   "cell_type": "code",
   "execution_count": 7,
   "id": "8413c6ea",
   "metadata": {},
   "outputs": [],
   "source": [
    "fractions = [0.7, 0.3]\n",
    "dfs = df.randomSplit(fractions, seed=42)"
   ]
  },
  {
   "cell_type": "code",
   "execution_count": 8,
   "id": "fd8eb516",
   "metadata": {},
   "outputs": [],
   "source": [
    "df1 = dfs[0]\n",
    "df2 = dfs[1]"
   ]
  },
  {
   "cell_type": "code",
   "execution_count": 9,
   "id": "e8ce6680",
   "metadata": {},
   "outputs": [
    {
     "name": "stdout",
     "output_type": "stream",
     "text": [
      "Collecting numpy\n",
      "  Downloading numpy-1.24.2-cp39-cp39-manylinux_2_17_x86_64.manylinux2014_x86_64.whl (17.3 MB)\n",
      "\u001b[2K     \u001b[90m━━━━━━━━━━━━━━━━━━━━━━━━━━━━━━━━━━━━━━━\u001b[0m \u001b[32m17.3/17.3 MB\u001b[0m \u001b[31m924.5 kB/s\u001b[0m eta \u001b[36m0:00:00\u001b[0m00:01\u001b[0m00:01\u001b[0m\n",
      "\u001b[?25hInstalling collected packages: numpy\n",
      "Successfully installed numpy-1.24.2\n",
      "\u001b[33mWARNING: Running pip as the 'root' user can result in broken permissions and conflicting behaviour with the system package manager. It is recommended to use a virtual environment instead: https://pip.pypa.io/warnings/venv\u001b[0m\u001b[33m\n",
      "\u001b[0m\n",
      "\u001b[1m[\u001b[0m\u001b[34;49mnotice\u001b[0m\u001b[1;39;49m]\u001b[0m\u001b[39;49m A new release of pip available: \u001b[0m\u001b[31;49m22.3\u001b[0m\u001b[39;49m -> \u001b[0m\u001b[32;49m23.0.1\u001b[0m\n",
      "\u001b[1m[\u001b[0m\u001b[34;49mnotice\u001b[0m\u001b[1;39;49m]\u001b[0m\u001b[39;49m To update, run: \u001b[0m\u001b[32;49mpython3 -m pip install --upgrade pip\u001b[0m\n",
      "Note: you may need to restart the kernel to use updated packages.\n"
     ]
    }
   ],
   "source": [
    "pip install numpy"
   ]
  },
  {
   "cell_type": "code",
   "execution_count": 15,
   "id": "de83f867",
   "metadata": {},
   "outputs": [],
   "source": [
    "tokenziner = Tokenizer(inputCol=\"_c5\",outputCol=\"Words\")"
   ]
  },
  {
   "cell_type": "code",
   "execution_count": 17,
   "id": "61476bcd",
   "metadata": {},
   "outputs": [],
   "source": [
    "tokenized_df = tokenziner.transform(df)"
   ]
  },
  {
   "cell_type": "code",
   "execution_count": 18,
   "id": "a44a34d5",
   "metadata": {},
   "outputs": [
    {
     "name": "stdout",
     "output_type": "stream",
     "text": [
      "+--------------------+\n",
      "|               Words|\n",
      "+--------------------+\n",
      "|[@switchfoot, htt...|\n",
      "|[is, upset, that,...|\n",
      "|[@kenichan, i, di...|\n",
      "|[my, whole, body,...|\n",
      "|[@nationwideclass...|\n",
      "|[@kwesidei, not, ...|\n",
      "|      [need, a, hug]|\n",
      "|[@loltrish, hey, ...|\n",
      "|[@tatiana_k, nope...|\n",
      "|[@twittera, que, ...|\n",
      "|[spring, break, i...|\n",
      "|[i, just, re-pier...|\n",
      "|[@caregiving, i, ...|\n",
      "|[@octolinz16, it,...|\n",
      "|[@smarrison, i, w...|\n",
      "|[@iamjazzyfizzle,...|\n",
      "|[hollis', death, ...|\n",
      "|[about, to, file,...|\n",
      "|[@lettya, ahh, iv...|\n",
      "|[@fakerpattypattz...|\n",
      "+--------------------+\n",
      "only showing top 20 rows\n",
      "\n"
     ]
    }
   ],
   "source": [
    "tokenized_df.select(\"Words\").show()"
   ]
  },
  {
   "cell_type": "code",
   "execution_count": 22,
   "id": "4883ee10",
   "metadata": {},
   "outputs": [],
   "source": [
    "ngram = NGram(n=2, inputCol=\"Words\", outputCol=\"Ngrams\")"
   ]
  },
  {
   "cell_type": "code",
   "execution_count": 23,
   "id": "4c410f78",
   "metadata": {},
   "outputs": [],
   "source": [
    "ngram_df = ngram.transform(tokenized_df)"
   ]
  },
  {
   "cell_type": "code",
   "execution_count": 24,
   "id": "4b75368f",
   "metadata": {},
   "outputs": [
    {
     "name": "stdout",
     "output_type": "stream",
     "text": [
      "+--------------------+\n",
      "|              Ngrams|\n",
      "+--------------------+\n",
      "|[@switchfoot http...|\n",
      "|[is upset, upset ...|\n",
      "|[@kenichan i, i d...|\n",
      "|[my whole, whole ...|\n",
      "|[@nationwideclass...|\n",
      "|[@kwesidei not, n...|\n",
      "|     [need a, a hug]|\n",
      "|[@loltrish hey, h...|\n",
      "|[@tatiana_k nope,...|\n",
      "|[@twittera que, q...|\n",
      "|[spring break, br...|\n",
      "|[i just, just re-...|\n",
      "|[@caregiving i, i...|\n",
      "|[@octolinz16 it, ...|\n",
      "|[@smarrison i, i ...|\n",
      "|[@iamjazzyfizzle ...|\n",
      "|[hollis' death, d...|\n",
      "|[about to, to fil...|\n",
      "|[@lettya ahh, ahh...|\n",
      "|[@fakerpattypattz...|\n",
      "+--------------------+\n",
      "only showing top 20 rows\n",
      "\n"
     ]
    }
   ],
   "source": [
    "ngram_df.select(\"Ngrams\").show()"
   ]
  },
  {
   "cell_type": "code",
   "execution_count": 28,
   "id": "3b2615bc",
   "metadata": {},
   "outputs": [],
   "source": [
    "hashing_tf = HashingTF(inputCol=\"Words\", outputCol=\"Features\", numFeatures=1000)"
   ]
  },
  {
   "cell_type": "code",
   "execution_count": 29,
   "id": "f51e62dc",
   "metadata": {},
   "outputs": [],
   "source": [
    "hashing_tf_df = hashing_tf.transform(tokenized_df)"
   ]
  },
  {
   "cell_type": "code",
   "execution_count": 30,
   "id": "19994696",
   "metadata": {},
   "outputs": [
    {
     "name": "stdout",
     "output_type": "stream",
     "text": [
      "+--------------------+\n",
      "|            Features|\n",
      "+--------------------+\n",
      "|(1000,[10,21,81,1...|\n",
      "|(1000,[121,193,20...|\n",
      "|(1000,[17,185,188...|\n",
      "|(1000,[191,330,44...|\n",
      "|(1000,[32,162,166...|\n",
      "|(1000,[17,205,405...|\n",
      "|(1000,[467,537,73...|\n",
      "|(1000,[157,166,26...|\n",
      "|(1000,[48,234,257...|\n",
      "|(1000,[67,369,451...|\n",
      "|(1000,[207,437,64...|\n",
      "|(1000,[307,406,47...|\n",
      "|(1000,[17,55,329,...|\n",
      "|(1000,[32,281,338...|\n",
      "|(1000,[17,74,112,...|\n",
      "|(1000,[10,17,54,6...|\n",
      "|(1000,[3,58,109,1...|\n",
      "|(1000,[108,294,48...|\n",
      "|(1000,[11,17,240,...|\n",
      "|(1000,[2,17,216,2...|\n",
      "+--------------------+\n",
      "only showing top 20 rows\n",
      "\n"
     ]
    }
   ],
   "source": [
    "hashing_tf_df.select(\"Features\").show()"
   ]
  },
  {
   "cell_type": "code",
   "execution_count": 31,
   "id": "3c130a95",
   "metadata": {},
   "outputs": [],
   "source": [
    "idf = IDF(inputCol=\"Features\",outputCol=\"IDF-Features\")"
   ]
  },
  {
   "cell_type": "code",
   "execution_count": 33,
   "id": "0605e205",
   "metadata": {},
   "outputs": [
    {
     "name": "stderr",
     "output_type": "stream",
     "text": [
      "                                                                                \r"
     ]
    }
   ],
   "source": [
    "idf_model = idf.fit(hashing_tf_df)"
   ]
  },
  {
   "cell_type": "code",
   "execution_count": 35,
   "id": "4b98ce4f",
   "metadata": {},
   "outputs": [],
   "source": [
    "idf_df = idf_model.transform(hashing_tf_df)"
   ]
  },
  {
   "cell_type": "code",
   "execution_count": 36,
   "id": "e580d608",
   "metadata": {},
   "outputs": [
    {
     "name": "stdout",
     "output_type": "stream",
     "text": [
      "+--------------------+\n",
      "|        IDF-Features|\n",
      "+--------------------+\n",
      "|(1000,[10,21,81,1...|\n",
      "|(1000,[121,193,20...|\n",
      "|(1000,[17,185,188...|\n",
      "|(1000,[191,330,44...|\n",
      "|(1000,[32,162,166...|\n",
      "|(1000,[17,205,405...|\n",
      "|(1000,[467,537,73...|\n",
      "|(1000,[157,166,26...|\n",
      "|(1000,[48,234,257...|\n",
      "|(1000,[67,369,451...|\n",
      "|(1000,[207,437,64...|\n",
      "|(1000,[307,406,47...|\n",
      "|(1000,[17,55,329,...|\n",
      "|(1000,[32,281,338...|\n",
      "|(1000,[17,74,112,...|\n",
      "|(1000,[10,17,54,6...|\n",
      "|(1000,[3,58,109,1...|\n",
      "|(1000,[108,294,48...|\n",
      "|(1000,[11,17,240,...|\n",
      "|(1000,[2,17,216,2...|\n",
      "+--------------------+\n",
      "only showing top 20 rows\n",
      "\n"
     ]
    }
   ],
   "source": [
    "idf_df.select(\"IDF-Features\").show()"
   ]
  },
  {
   "cell_type": "code",
   "execution_count": null,
   "id": "f1b0109b",
   "metadata": {},
   "outputs": [],
   "source": []
  },
  {
   "cell_type": "code",
   "execution_count": null,
   "id": "b6e9c006",
   "metadata": {},
   "outputs": [],
   "source": []
  }
 ],
 "metadata": {
  "kernelspec": {
   "display_name": "Python 3 (ipykernel)",
   "language": "python",
   "name": "python3"
  },
  "language_info": {
   "codemirror_mode": {
    "name": "ipython",
    "version": 3
   },
   "file_extension": ".py",
   "mimetype": "text/x-python",
   "name": "python",
   "nbconvert_exporter": "python",
   "pygments_lexer": "ipython3",
   "version": "3.9.2"
  }
 },
 "nbformat": 4,
 "nbformat_minor": 5
}
